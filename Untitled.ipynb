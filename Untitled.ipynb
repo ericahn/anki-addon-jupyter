{
 "cells": [
  {
   "cell_type": "code",
   "execution_count": 69,
   "metadata": {
    "collapsed": true
   },
   "outputs": [],
   "source": [
    "import numpy as np\n",
    "from matplotlib import pyplot as plt\n",
    "\n",
    "from anki import Collection"
   ]
  },
  {
   "cell_type": "code",
   "execution_count": 70,
   "metadata": {
    "collapsed": true
   },
   "outputs": [],
   "source": [
    "col = Collection('/home/eahn/.local/share/Anki2/Eric/collection.anki2')"
   ]
  },
  {
   "cell_type": "code",
   "execution_count": 71,
   "metadata": {
    "scrolled": true
   },
   "outputs": [
    {
     "data": {
      "image/png": "[encoded data removed]",
      "text/plain": [
       "<matplotlib.figure.Figure at 0x7f595c87fd30>"
      ]
     },
     "metadata": {},
     "output_type": "display_data"
    },
    {
     "data": {
      "image/png": "[encoded data removed]",
      "text/plain": [
       "<matplotlib.figure.Figure at 0x7f595c90c390>"
      ]
     },
     "metadata": {},
     "output_type": "display_data"
    }
   ],
   "source": [
    "for card_type in ('Reading', 'Writing'):\n",
    "    # Get all cards of requird type\n",
    "    cids = col.findCards('deck:Mandarin::Heisig card:{} is:review'.format(card_type))\n",
    "    cards = [col.getCard(cid) for cid in cids]\n",
    "    \n",
    "    # Get mature cards\n",
    "    ivls = [card.ivl for card in cards]\n",
    "    cards = [card for card in cards if card.ivl > np.percentile(ivls, 90)]\n",
    "    \n",
    "    # Get positive factors\n",
    "    factors = [card.factor for card in cards]\n",
    "    factors = [f for f in factors if f > 0]\n",
    "    \n",
    "    mean_factor = np.mean(factors)\n",
    "    plt.hist(factors, 10)\n",
    "    plt.axvline(mean_factor, color='C1', label=mean_factor)\n",
    "    plt.title(card_type)\n",
    "    plt.legend()\n",
    "    plt.show()"
   ]
  },
  {
   "cell_type": "code",
   "execution_count": 72,
   "metadata": {
    "collapsed": true
   },
   "outputs": [],
   "source": [
    "steps = [pd.Timedelta(s) // pd.Timedelta(minutes=1) for s in ('1 minute', '15 minutes', '1 day', '7 days', '30 days')]"
   ]
  },
  {
   "cell_type": "code",
   "execution_count": 119,
   "metadata": {},
   "outputs": [
    {
     "data": {
      "text/plain": [
       "[1, 15, 1440, 10080, 43200]"
      ]
     },
     "execution_count": 119,
     "metadata": {},
     "output_type": "execute_result"
    }
   ],
   "source": [
    "steps"
   ]
  },
  {
   "cell_type": "code",
   "execution_count": 120,
   "metadata": {
    "collapsed": true
   },
   "outputs": [],
   "source": [
    "col.close()"
   ]
  }
 ],
 "metadata": {
  "kernelspec": {
   "display_name": "Python 3",
   "language": "python",
   "name": "python3"
  },
  "language_info": {
   "codemirror_mode": {
    "name": "ipython",
    "version": 3
   },
   "file_extension": ".py",
   "mimetype": "text/x-python",
   "name": "python",
   "nbconvert_exporter": "python",
   "pygments_lexer": "ipython3",
   "version": "3.6.3"
  }
 },
 "nbformat": 4,
 "nbformat_minor": 2
}
