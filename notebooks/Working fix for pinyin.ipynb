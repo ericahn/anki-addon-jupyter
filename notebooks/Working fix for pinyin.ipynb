{
 "cells": [
  {
   "cell_type": "code",
   "execution_count": 112,
   "metadata": {},
   "outputs": [],
   "source": [
    "import re\n",
    "import codecs\n",
    "\n",
    "from anki import Collection\n",
    "from collections import defaultdict\n",
    "\n",
    "from pinyin import *"
   ]
  },
  {
   "cell_type": "code",
   "execution_count": 20,
   "metadata": {},
   "outputs": [],
   "source": [
    "from pinyin.chinese_master import *"
   ]
  },
  {
   "cell_type": "code",
   "execution_count": 22,
   "metadata": {},
   "outputs": [],
   "source": [
    "cedict_path = '/home/eahn/personal/anki-chinese/addon21/user_files/cedict_ts.u8'\n",
    "cedict = ChineseDict(codecs.open(cedict_path, 'r', 'utf-8'))"
   ]
  },
  {
   "cell_type": "code",
   "execution_count": 26,
   "metadata": {},
   "outputs": [],
   "source": [
    "col = Collection('/home/eahn/.local/share/Anki2/Eric/collection.anki2')"
   ]
  },
  {
   "cell_type": "code",
   "execution_count": 29,
   "metadata": {},
   "outputs": [],
   "source": [
    "cids = col.findCards('deck:Mandarin::Heisig card:Reading')"
   ]
  },
  {
   "cell_type": "code",
   "execution_count": 105,
   "metadata": {
    "collapsed": true
   },
   "outputs": [],
   "source": [
    "def p_from_defs(entries, loc=0):\n",
    "    ps = []\n",
    "    for p, _ in entries:\n",
    "        if p[loc] not in ps:\n",
    "            ps.append(p[loc])\n",
    "    return ps"
   ]
  },
  {
   "cell_type": "code",
   "execution_count": 185,
   "metadata": {},
   "outputs": [
    {
     "name": "stdout",
     "output_type": "stream",
     "text": [
      "CPU times: user 26.9 s, sys: 4.86 ms, total: 26.9 s\n",
      "Wall time: 27 s\n"
     ]
    }
   ],
   "source": [
    "%%time\n",
    "\n",
    "pinyin_dict = {}\n",
    "\n",
    "for cid in cids:\n",
    "    card = col.getCard(cid)\n",
    "    note = card.note()\n",
    "    hanzi = note['Hanzi']\n",
    "    if 'p' in hanzi or not is_hanzi(hanzi) or note['Keyword'] == '' or note['Keyword'].startswith('p.'):\n",
    "        continue\n",
    "    pinyin = note['Pinyin']\n",
    "    pinyin_dict[hanzi] = {'anki': pinyin, 'note': note}\n",
    "    \n",
    "    direct = []\n",
    "    indirect = defaultdict(int)\n",
    "    \n",
    "    success, entries = cedict.lookup(hanzi)\n",
    "    if success:\n",
    "        direct = p_from_defs(entries)\n",
    "\n",
    "    for word, entries in cedict.entries.items():\n",
    "        if hanzi not in word:\n",
    "            continue\n",
    "        for p in p_from_defs(entries.items(), word.index(hanzi)):\n",
    "            indirect[p] += 1\n",
    "    \n",
    "    pinyin_dict[hanzi]['direct'] = direct\n",
    "    pinyin_dict[hanzi]['indirect'] = indirect"
   ]
  },
  {
   "cell_type": "code",
   "execution_count": 267,
   "metadata": {},
   "outputs": [],
   "source": [
    "def from_anki(x):\n",
    "    rex = re.compile(r'{?(?:<span class=\\\"tone(\\d)\\\">(\\w+)<\\/span>,)*<span class=\\\"tone(\\d)\\\">(\\w+)<\\/span>}?')\n",
    "    m = rex.match(x)\n",
    "    if not m:\n",
    "        return False, None\n",
    "    pairs = list(m.groups())\n",
    "    result = []\n",
    "    for k in range(len(pairs) // 2):\n",
    "        tone = pairs[2 * k]\n",
    "        pinyin = pairs[2 * k + 1]\n",
    "        if tone is None and pinyin is None:\n",
    "            continue\n",
    "        tone = int(tone)\n",
    "        new_pinyin = pinyin_mton(pinyin)\n",
    "        assert int(new_pinyin[-1]) % 5 == tone % 5, '{} {} {}'.format(pairs, tone, new_pinyin)\n",
    "        result.append(new_pinyin)\n",
    "    return True, result"
   ]
  },
  {
   "cell_type": "code",
   "execution_count": 323,
   "metadata": {
    "collapsed": true
   },
   "outputs": [],
   "source": [
    "def to_anki(x):\n",
    "    around = '{}' if len(x) == 1 else '{{{}}}'\n",
    "    return around.format(','.join('<span class=\"tone{}\">{}</span>'.format(p[-1], pinyin_ntom(p)) for p in x))"
   ]
  },
  {
   "cell_type": "code",
   "execution_count": 309,
   "metadata": {
    "scrolled": false
   },
   "outputs": [
    {
     "name": "stdout",
     "output_type": "stream",
     "text": [
      "明 cedict: ['ming2'] extra ming5 12\n"
     ]
    }
   ],
   "source": [
    "for hanzi, pinyins in pinyin_dict.items():\n",
    "    direct = pinyins['direct']\n",
    "    indirect = pinyins['indirect']\n",
    "    note = pinyins['note']\n",
    "    if len(direct) + len(indirect) == 0:\n",
    "        continue\n",
    "    new_direct = [x for x in direct if x.lower() == x]\n",
    "    direct = new_direct\n",
    "    if len(direct) > 0:\n",
    "        note['Pinyin'] = to_anki(direct)\n",
    "        note.flush()\n",
    "    else:\n",
    "        new_indirect = {}\n",
    "        for x, count in indirect.items():\n",
    "            if x == x.lower():\n",
    "                new_indirect[x] = count\n",
    "        indirect = new_indirect\n",
    "        best = sorted(indirect, key=lambda x: indirect[x], reverse=True)\n",
    "        "
   ]
  },
  {
   "cell_type": "code",
   "execution_count": null,
   "metadata": {
    "collapsed": true
   },
   "outputs": [],
   "source": []
  },
  {
   "cell_type": "code",
   "execution_count": 326,
   "metadata": {},
   "outputs": [
    {
     "data": {
      "text/plain": [
       "{'ming2': 337, 'ming5': 12}"
      ]
     },
     "execution_count": 326,
     "metadata": {},
     "output_type": "execute_result"
    }
   ],
   "source": [
    "indirect"
   ]
  },
  {
   "cell_type": "code",
   "execution_count": 330,
   "metadata": {},
   "outputs": [
    {
     "data": {
      "text/plain": [
       "['ming2', 'ming5']"
      ]
     },
     "execution_count": 330,
     "metadata": {},
     "output_type": "execute_result"
    }
   ],
   "source": [
    "sorted(indirect, key=lambda x: indirect[x], reverse=True)"
   ]
  },
  {
   "cell_type": "code",
   "execution_count": 170,
   "metadata": {},
   "outputs": [],
   "source": [
    "for word, entries in cedict.entries.items():\n",
    "    if hanzi not in word:\n",
    "        continue\n",
    "    print(word, word.index(hanzi))\n",
    "    break"
   ]
  }
 ],
 "metadata": {
  "kernelspec": {
   "display_name": "Python 3",
   "language": "python",
   "name": "python3"
  },
  "language_info": {
   "codemirror_mode": {
    "name": "ipython",
    "version": 3
   },
   "file_extension": ".py",
   "mimetype": "text/x-python",
   "name": "python",
   "nbconvert_exporter": "python",
   "pygments_lexer": "ipython3",
   "version": "3.6.3"
  }
 },
 "nbformat": 4,
 "nbformat_minor": 2
}
