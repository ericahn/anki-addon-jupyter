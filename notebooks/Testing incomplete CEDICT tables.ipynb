{
 "cells": [
  {
   "cell_type": "code",
   "execution_count": 1,
   "metadata": {},
   "outputs": [
    {
     "name": "stdout",
     "output_type": "stream",
     "text": [
      "Failed to import Anki modules\n"
     ]
    }
   ],
   "source": [
    "from pinyin.chinese_master import *\n",
    "from anki import Collection"
   ]
  },
  {
   "cell_type": "code",
   "execution_count": 4,
   "metadata": {
    "collapsed": true
   },
   "outputs": [],
   "source": [
    "cedict_path = '/home/eahn/personal/anki-chinese/addon21/user_files/cedict_ts.u8'\n",
    "cedict = ChineseDict(codecs.open(cedict_path, 'r', 'utf-8'))"
   ]
  },
  {
   "cell_type": "code",
   "execution_count": 2,
   "metadata": {
    "collapsed": true
   },
   "outputs": [],
   "source": [
    "col = Collection('/home/eahn/.local/share/Anki2/Eric/collection.anki2')"
   ]
  },
  {
   "cell_type": "code",
   "execution_count": 3,
   "metadata": {
    "collapsed": true
   },
   "outputs": [],
   "source": [
    "cids = col.findCards('deck:Mandarin::Sentences -is:suspended tag:marked')"
   ]
  },
  {
   "cell_type": "code",
   "execution_count": 5,
   "metadata": {
    "scrolled": false
   },
   "outputs": [
    {
     "name": "stdout",
     "output_type": "stream",
     "text": [
      "[('Hanzi', '法律维护正义。'), ('Pinyin', 'Fǎlǜ wéihù zhèngyì.'), ('English', 'The law upholds justice.'), ('Audio', '[sound:tmp7pijq6.mp3]'), ('Ruby', '<ruby>法律<rt>fǎ lǜ</ruby>&nbsp;&nbsp;<ruby>维护<rt>wéi hù</ruby>&nbsp;&nbsp;<ruby>正义<rt>zhèng yì</ruby>。'), ('CEDICT', '<table>\\n  <tr class=\"\">\\n    <td class=\"dict-table-word\">维护</td>\\n    <td class=\"dict-table-pinyin\">wéihù</td>\\n    <td class=\"dict-table-definition\">\\n      <ol>\\n        <li>to defend</li>\\n        <li>to safeguard</li>\\n        <li>to protect</li>\\n        <li>to uphold</li>\\n        <li>to maintain</li>\\n      </ol></td>\\n  </tr>\\n  <tr class=\"dict-table-word-border\">\\n    <td class=\"dict-table-word\">正义</td>\\n    <td class=\"dict-table-pinyin\">zhèngyì</td>\\n    <td class=\"dict-table-definition\">\\n      <ol>\\n        <li>justice</li>\\n        <li>righteousness</li>\\n        <li>just</li>\\n        <li>righteous</li>\\n      </ol></td>\\n  </tr>\\n</table>')]\n"
     ]
    }
   ],
   "source": [
    "cid = cids[2]\n",
    "card = col.getCard(cid)\n",
    "note = card.note()\n",
    "print(note.items())"
   ]
  },
  {
   "cell_type": "code",
   "execution_count": 6,
   "metadata": {
    "collapsed": true
   },
   "outputs": [],
   "source": [
    "hanzi = note['Hanzi']\n",
    "pinyin = note['Pinyin']"
   ]
  },
  {
   "cell_type": "code",
   "execution_count": 7,
   "metadata": {},
   "outputs": [],
   "source": [
    "ruby_struct = parse_sentence(cedict, hanzi)"
   ]
  },
  {
   "cell_type": "code",
   "execution_count": 9,
   "metadata": {},
   "outputs": [],
   "source": [
    "success, raw_match = match_hp(hanzi, pinyin)"
   ]
  },
  {
   "cell_type": "code",
   "execution_count": 12,
   "metadata": {},
   "outputs": [
    {
     "data": {
      "text/plain": [
       "[(True, '法律', ('fa3', 'lv4')),\n",
       " (False, ' ', None),\n",
       " (True, '维护', ('wei2', 'hu4')),\n",
       " (False, ' ', None),\n",
       " (True, '正义', ('zheng4', 'yi4')),\n",
       " (False, '。', None)]"
      ]
     },
     "execution_count": 12,
     "metadata": {},
     "output_type": "execute_result"
    }
   ],
   "source": [
    "clean_match(raw_match)"
   ]
  },
  {
   "cell_type": "code",
   "execution_count": 10,
   "metadata": {},
   "outputs": [
    {
     "data": {
      "text/plain": [
       "'<table>\\n  <tr class=\"\">\\n    <td class=\"dict-table-word\">维护</td>\\n    <td class=\"dict-table-pinyin\">wéihù</td>\\n    <td class=\"dict-table-definition\">\\n      <ol>\\n        <li>to defend</li>\\n        <li>to safeguard</li>\\n        <li>to protect</li>\\n        <li>to uphold</li>\\n        <li>to maintain</li>\\n      </ol></td>\\n  </tr>\\n  <tr class=\"dict-table-word-border\">\\n    <td class=\"dict-table-word\">正义</td>\\n    <td class=\"dict-table-pinyin\">zhèngyì</td>\\n    <td class=\"dict-table-definition\">\\n      <ol>\\n        <li>justice</li>\\n        <li>righteousness</li>\\n        <li>just</li>\\n        <li>righteous</li>\\n      </ol></td>\\n  </tr>\\n</table>'"
      ]
     },
     "execution_count": 10,
     "metadata": {},
     "output_type": "execute_result"
    }
   ],
   "source": [
    "generate_definitions_table(cedict, clean_match(raw_match))"
   ]
  },
  {
   "cell_type": "code",
   "execution_count": 13,
   "metadata": {
    "collapsed": true
   },
   "outputs": [],
   "source": [
    "col.close()"
   ]
  }
 ],
 "metadata": {
  "kernelspec": {
   "display_name": "Python 3",
   "language": "python",
   "name": "python3"
  },
  "language_info": {
   "codemirror_mode": {
    "name": "ipython",
    "version": 3
   },
   "file_extension": ".py",
   "mimetype": "text/x-python",
   "name": "python",
   "nbconvert_exporter": "python",
   "pygments_lexer": "ipython3",
   "version": "3.6.3"
  }
 },
 "nbformat": 4,
 "nbformat_minor": 2
}
