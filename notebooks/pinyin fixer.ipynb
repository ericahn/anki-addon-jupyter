{
 "cells": [
  {
   "cell_type": "code",
   "execution_count": 2,
   "metadata": {
    "collapsed": true
   },
   "outputs": [],
   "source": [
    "from anki import Collection\n",
    "from ChineseDict import ChineseDict\n",
    "import codecs"
   ]
  },
  {
   "cell_type": "code",
   "execution_count": 6,
   "metadata": {
    "collapsed": true
   },
   "outputs": [],
   "source": [
    "from pinyin import *"
   ]
  },
  {
   "cell_type": "code",
   "execution_count": 18,
   "metadata": {},
   "outputs": [],
   "source": [
    "def is_hanzi(c):\n",
    "    return len(c) == 1 and 0x4e00 <= ord(c) <= 0x9fff\n",
    "\n",
    "def parse_sentence(sentence):\n",
    "    ruby_struct = []\n",
    "    for text in jieba.cut(sentence):\n",
    "        if is_hanzi(text[0]):\n",
    "            success, pinyins = cedict.lookup(text)\n",
    "            if success:\n",
    "                pinyin = pinyins[0][0]\n",
    "                ruby_struct.append((True, text, pinyin))\n",
    "            else:\n",
    "                for word in cedict.gen_words(text):\n",
    "                    ruby_struct.append((True, word, cedict.lookup(word)[1][0][0]))\n",
    "        elif text[0] == '?' and len(ruby_struct) > 0 and ruby_struct[-1][1] == '吗':\n",
    "            ruby_struct[-1] = (True, '吗', ('ma5',))\n",
    "        else:\n",
    "            ruby_struct.append((False, text, None))\n",
    "\n",
    "    return ruby_struct"
   ]
  },
  {
   "cell_type": "code",
   "execution_count": 17,
   "metadata": {},
   "outputs": [
    {
     "ename": "NameError",
     "evalue": "name 'is_hanzi' is not defined",
     "output_type": "error",
     "traceback": [
      "\u001b[0;31m---------------------------------------------------------------------------\u001b[0m",
      "\u001b[0;31mNameError\u001b[0m                                 Traceback (most recent call last)",
      "\u001b[0;32m<ipython-input-17-89bf5465a4ee>\u001b[0m in \u001b[0;36m<module>\u001b[0;34m()\u001b[0m\n\u001b[0;32m----> 1\u001b[0;31m \u001b[0mparse_sentence\u001b[0m\u001b[0;34m(\u001b[0m\u001b[0;34m'吗'\u001b[0m\u001b[0;34m)\u001b[0m\u001b[0;34m\u001b[0m\u001b[0m\n\u001b[0m",
      "\u001b[0;32m<ipython-input-16-8dbc5640a7d9>\u001b[0m in \u001b[0;36mparse_sentence\u001b[0;34m(sentence)\u001b[0m\n\u001b[1;32m      2\u001b[0m     \u001b[0mruby_struct\u001b[0m \u001b[0;34m=\u001b[0m \u001b[0;34m[\u001b[0m\u001b[0;34m]\u001b[0m\u001b[0;34m\u001b[0m\u001b[0m\n\u001b[1;32m      3\u001b[0m     \u001b[0;32mfor\u001b[0m \u001b[0mtext\u001b[0m \u001b[0;32min\u001b[0m \u001b[0mjieba\u001b[0m\u001b[0;34m.\u001b[0m\u001b[0mcut\u001b[0m\u001b[0;34m(\u001b[0m\u001b[0msentence\u001b[0m\u001b[0;34m)\u001b[0m\u001b[0;34m:\u001b[0m\u001b[0;34m\u001b[0m\u001b[0m\n\u001b[0;32m----> 4\u001b[0;31m         \u001b[0;32mif\u001b[0m \u001b[0mis_hanzi\u001b[0m\u001b[0;34m(\u001b[0m\u001b[0mtext\u001b[0m\u001b[0;34m[\u001b[0m\u001b[0;36m0\u001b[0m\u001b[0;34m]\u001b[0m\u001b[0;34m)\u001b[0m\u001b[0;34m:\u001b[0m\u001b[0;34m\u001b[0m\u001b[0m\n\u001b[0m\u001b[1;32m      5\u001b[0m             \u001b[0msuccess\u001b[0m\u001b[0;34m,\u001b[0m \u001b[0mpinyins\u001b[0m \u001b[0;34m=\u001b[0m \u001b[0mcedict\u001b[0m\u001b[0;34m.\u001b[0m\u001b[0mlookup\u001b[0m\u001b[0;34m(\u001b[0m\u001b[0mtext\u001b[0m\u001b[0;34m)\u001b[0m\u001b[0;34m\u001b[0m\u001b[0m\n\u001b[1;32m      6\u001b[0m             \u001b[0;32mif\u001b[0m \u001b[0msuccess\u001b[0m\u001b[0;34m:\u001b[0m\u001b[0;34m\u001b[0m\u001b[0m\n",
      "\u001b[0;31mNameError\u001b[0m: name 'is_hanzi' is not defined"
     ]
    }
   ],
   "source": []
  },
  {
   "cell_type": "code",
   "execution_count": 3,
   "metadata": {
    "collapsed": true
   },
   "outputs": [],
   "source": [
    "cedict_path = '/Users/ericahn/Projects/anki-chinese/addon21/user_files/cedict_ts.u8'\n",
    "cedict = ChineseDict(codecs.open(cedict_path, 'r', 'utf-8'))"
   ]
  },
  {
   "cell_type": "code",
   "execution_count": 12,
   "metadata": {
    "collapsed": true
   },
   "outputs": [],
   "source": [
    "col = Collection(r'/Users/ericahn/Library/Application Support/Anki2/Eric/collection.anki2')"
   ]
  },
  {
   "cell_type": "code",
   "execution_count": 15,
   "metadata": {
    "collapsed": true
   },
   "outputs": [],
   "source": [
    "cids = col.findCards('deck:Mandarin::Heisig card:Reading')"
   ]
  },
  {
   "cell_type": "code",
   "execution_count": 40,
   "metadata": {},
   "outputs": [
    {
     "name": "stdout",
     "output_type": "stream",
     "text": [
      "𢦏\n",
      "廴\n",
      "啇\n",
      "阝\n",
      "阢\n",
      "扌\n",
      "後\n",
      "犭\n",
      "忄\n",
      "攵\n",
      "敫\n",
      "灬\n",
      "礻\n",
      "肀\n",
      "钅\n",
      "衤\n",
      "纟\n"
     ]
    }
   ],
   "source": [
    "for cid in cids:\n",
    "    note = col.getCard(cid).note()\n",
    "    hanzi, pinyin = note['Hanzi'], note['Pinyin']\n",
    "    if len(hanzi) > 1:\n",
    "        continue\n",
    "    success, entries = cedict.lookup(hanzi)\n",
    "    if not success:\n",
    "        print(hanzi)\n",
    "        continue\n",
    "    cedict_pinyins = [entry[0][0] for entry in entries]"
   ]
  },
  {
   "cell_type": "code",
   "execution_count": 43,
   "metadata": {},
   "outputs": [
    {
     "data": {
      "text/plain": [
       "['ma2']"
      ]
     },
     "execution_count": 43,
     "metadata": {},
     "output_type": "execute_result"
    }
   ],
   "source": [
    "cedict_pinyins"
   ]
  }
 ],
 "metadata": {
  "kernelspec": {
   "display_name": "Python 3",
   "language": "python",
   "name": "python3"
  },
  "language_info": {
   "codemirror_mode": {
    "name": "ipython",
    "version": 3
   },
   "file_extension": ".py",
   "mimetype": "text/x-python",
   "name": "python",
   "nbconvert_exporter": "python",
   "pygments_lexer": "ipython3",
   "version": "3.6.3"
  }
 },
 "nbformat": 4,
 "nbformat_minor": 2
}
