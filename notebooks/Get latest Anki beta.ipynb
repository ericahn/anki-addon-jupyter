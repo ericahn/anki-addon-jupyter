{
 "cells": [
  {
   "cell_type": "code",
   "execution_count": 189,
   "metadata": {},
   "outputs": [],
   "source": [
    "import re\n",
    "import requests\n",
    "import tarfile\n",
    "import os\n",
    "\n",
    "from datetime import datetime"
   ]
  },
  {
   "cell_type": "code",
   "execution_count": 192,
   "metadata": {
    "scrolled": false
   },
   "outputs": [
    {
     "name": "stdout",
     "output_type": "stream",
     "text": [
      "Latest version: 33, released on 2018-01-22\n",
      "Downloading tar ... done.\n",
      "Extracting tar ... done.\n",
      "Deleted tar\n"
     ]
    }
   ],
   "source": [
    "base_url = 'https://apps.ankiweb.net/downloads/beta/'\n",
    "base_path = '/home/eahn/apps/anki-beta/'\n",
    "\n",
    "### Get latest version\n",
    "list_req = requests.get(base_url)\n",
    "rex = re.compile(r'<a href=\"(anki-2\\.1\\.\\dbeta(\\d+)-amd64\\.tar\\.bz2)\">anki-2\\.1\\.\\dbeta\\d\\d-amd64\\.tar\\.bz2<\\/a>\\s+(\\d\\d-\\w\\w\\w-\\d\\d\\d\\d)')\n",
    "\n",
    "by_date = {}\n",
    "by_version = {}\n",
    "\n",
    "for line in req.text.split('\\n'):\n",
    "    m = rex.match(line)\n",
    "    if m:\n",
    "        file_name = m.group(1)\n",
    "        version = int(m.group(2))\n",
    "        date = datetime.strptime(m.group(3), '%d-%b-%Y').date()\n",
    "        by_date[date] = file_name\n",
    "        by_version[version] = file_name\n",
    "\n",
    "version = max(by_version)\n",
    "date = max(by_date)\n",
    "assert by_date[date] == by_version[version]\n",
    "print('Latest version: {}, released on {}'.format(version, date))\n",
    "file_name = by_version[version]\n",
    "\n",
    "### Download tar\n",
    "tar_path = base_path + file_name\n",
    "down_req = requests.get(base_url + file_name, stream=True)\n",
    "print('Downloading tar ... ', end='')\n",
    "with open(tar_path, 'wb') as outfile:\n",
    "    for chunk in down_req.iter_content(chunk_size=512):\n",
    "        if chunk:\n",
    "            outfile.write(chunk)\n",
    "print('done.')\n",
    "\n",
    "### Extract tar\n",
    "print('Extracting tar ... ', end='')\n",
    "tar = tarfile.open(tar_path)\n",
    "tar.extractall(path=base_path)\n",
    "print('done.')\n",
    "\n",
    "### Delete tar\n",
    "os.remove(tar_path)\n",
    "print('Deleted tar')"
   ]
  }
 ],
 "metadata": {
  "kernelspec": {
   "display_name": "Python 3",
   "language": "python",
   "name": "python3"
  },
  "language_info": {
   "codemirror_mode": {
    "name": "ipython",
    "version": 3
   },
   "file_extension": ".py",
   "mimetype": "text/x-python",
   "name": "python",
   "nbconvert_exporter": "python",
   "pygments_lexer": "ipython3",
   "version": "3.6.3"
  }
 },
 "nbformat": 4,
 "nbformat_minor": 2
}
