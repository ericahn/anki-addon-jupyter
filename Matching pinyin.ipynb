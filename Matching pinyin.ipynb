{
 "cells": [
  {
   "cell_type": "code",
   "execution_count": 1,
   "metadata": {},
   "outputs": [
    {
     "name": "stdout",
     "output_type": "stream",
     "text": [
      "No Anki modules!\n",
      "No addon magic\n"
     ]
    }
   ],
   "source": [
    "import re\n",
    "\n",
    "from anki import Collection\n",
    "\n",
    "from pinyin import *"
   ]
  },
  {
   "cell_type": "code",
   "execution_count": 30,
   "metadata": {
    "collapsed": true
   },
   "outputs": [],
   "source": [
    "col = Collection('/home/eahn/.local/share/Anki2/Eric/collection.anki2')\n",
    "cids = col.findCards('deck:Mandarin::Heisig card:Reading')"
   ]
  },
  {
   "cell_type": "code",
   "execution_count": 69,
   "metadata": {
    "collapsed": true
   },
   "outputs": [],
   "source": [
    "VowelId = {vowel: n for vowel, n in zip('aoeiuv', range(10))}\n",
    "PinyinToneMark = {\n",
    "    0: \"aoeiuv\\u00fc\",\n",
    "    1: \"\\u0101\\u014d\\u0113\\u012b\\u016b\\u01d6\\u01d6\",\n",
    "    2: \"\\u00e1\\u00f3\\u00e9\\u00ed\\u00fa\\u01d8\\u01d8\",\n",
    "    3: \"\\u01ce\\u01d2\\u011b\\u01d0\\u01d4\\u01da\\u01da\",\n",
    "    4: \"\\u00e0\\u00f2\\u00e8\\u00ec\\u00f9\\u01dc\\u01dc\",\n",
    "}\n",
    "\n",
    "multiple_rex = re.compile(r'\\{(?:([^,\\}]+),)+([^,\\}]+)\\}')\n",
    "all_rex = re.compile(r'\\{?(?:([^,\\}]+),)*([^,\\}]+)\\}?')\n",
    "already_rex = re.compile(r'<span class=\"tone(\\d)\">(\\w+)<\\/span>')\n",
    "\n",
    "def get_tone(pinyin):\n",
    "    for l in pinyin:\n",
    "        for tone in range(1, 4 + 1):\n",
    "            for vowel, n in VowelId.items():\n",
    "                if PinyinToneMark[tone][n] == l:\n",
    "                    return tone\n",
    "    return 5\n",
    "\n",
    "def handle_pinyin(text):\n",
    "    m = already_rex.match(text)\n",
    "    if m:\n",
    "        tone, pinyin = m.groups()\n",
    "        assert int(tone) == get_tone(pinyin)\n",
    "        return m.group(0)\n",
    "    else:\n",
    "        print('Huh?', text)\n",
    "        tone = get_tone(text)\n",
    "        return '<span class=\"tone{}\">{}</span>'.format(tone, text)"
   ]
  },
  {
   "cell_type": "code",
   "execution_count": 192,
   "metadata": {
    "scrolled": true
   },
   "outputs": [
    {
     "name": "stdout",
     "output_type": "stream",
     "text": [
      "一 ['yī', 'yi'] ['yī']\n",
      "二 ['èr', 'ér'] ['èr']\n",
      "三 ['sān', 'yī', 'sǎn'] ['sān', 'sàn']\n",
      "口 ['kǒu', 'kou', 'luó'] ['kǒu']\n",
      "日 ['rì'] ['rì', 'mì']\n",
      "目 ['mù', 'mu'] ['mù']\n",
      "胡 ['hú', 'hu'] ['hú']\n",
      "叶 ['yè', 'xié'] ['yè']\n",
      "吾 ['wú', 'wu'] ['wú']\n",
      "明 ['míng', 'ming'] ['míng']\n",
      "自 ['zì', 'zi', 'zī'] ['zì']\n",
      "白 ['bái', 'bai'] ['bái', 'bó']\n",
      "百 ['bǎi', 'bò'] ['bó', 'mò']\n",
      "舌 ['shé'] ['shé', 'guā']\n",
      "卜 ['bǔ', 'bo'] ['bǔ']\n",
      "上 ['shàng', 'shǎng', 'shang'] ['shàng']\n",
      "下 ['xià', 'xia'] ['xià']\n",
      "卓 ['zhuó'] ['zhuō']\n",
      "朝 ['cháo', 'zhāo'] ['cháo', 'zhū']\n",
      "只 ['zhǐ', 'zhī'] ['zhī']\n",
      "员 ['yuán'] ['yuán', 'yùn']\n",
      "儿 ['ér', 'r'] ['ér', 'er']\n",
      "见 ['jiàn', 'xiàn', 'jian', 'jiān'] ['jiàn', 'xiàn']\n",
      "肌 ['jī'] ['jī', 'jì']\n",
      "负 ['fù', 'fu'] ['fù']\n",
      "句 ['jù', 'gōu', 'jú'] ['jù', 'gōu']\n",
      "勺 ['sháo'] ['sháo', 'zhuó']\n",
      "的 ['de', 'dì', 'dī', 'dí'] ['dí', 'dì']\n",
      "首 ['shǒu', 'shou'] ['shǒu']\n",
      "置 ['zhì', 'zhi'] ['zhì']\n",
      "工 ['gōng', 'ēi'] ['gōng']\n",
      "有 ['yǒu'] ['yǒu', 'yòu']\n",
      "贿 ['huì', 'huī'] ['huì']\n",
      "项 ['xiàng', 'xiang'] ['xiàng']\n",
      "切 ['qiè', 'qiē'] ['qiè', 'qì']\n",
      "丁 ['dīng', 'zhēng', 'ding'] ['dīng', 'zhēng']\n",
      "哥 ['gē', 'ge'] ['gē']\n",
      "乙 ['yǐ', 'zhé'] ['yǐ']\n",
      "了 ['le', 'liǎo', 'liào'] ['le', 'liǎo']\n",
      "好 ['hǎo', 'hào', 'hāo'] ['hǎo', 'hào']\n",
      "如 ['rú', 'rù'] ['rú']\n",
      "母 ['mǔ'] ['wǔ', 'wú']\n",
      "贯 ['guàn'] ['guàn', 'wān']\n",
      "兄 ['xiōng', 'xīng', 'xiong'] ['xiōng']\n",
      "克 ['kè', 'kēi'] ['kè']\n",
      "少 ['shǎo', 'shào', 'shao'] ['shǎo', 'shào']\n",
      "吵 ['chǎo', 'chāo', 'chao'] ['chǎo']\n",
      "孙 ['sūn'] ['sūn', 'xùn']\n",
      "大 ['dà', 'dài', 'dā', 'dá'] ['dài', 'tài']\n",
      "夕 ['xī'] ['xī', 'xì']\n",
      "罗 ['luó', 'luō', 'luo'] ['luó', 'luo']\n",
      "厂 ['chǎng', 'hǎn'] ['hàn', 'ān']\n",
      "厚 ['hòu', 'hou'] ['hòu']\n",
      "石 ['shí', 'dàn', 'shī'] ['shí', 'dàn']\n",
      "太 ['tài', 'tai'] ['tài']\n",
      "省 ['shěng', 'xǐng', 'sheng'] ['xiǎn', 'xǐng']\n",
      "水 ['shuǐ', 'shui'] ['shuǐ']\n",
      "原 ['yuán'] ['yuán', 'yuàn']\n",
      "沙 ['shā'] ['shà', 'suō']\n",
      "汁 ['zhī'] ['xié', 'shī']\n",
      "活 ['huó', 'huo'] ['huó', 'guō']\n",
      "均 ['jūn'] ['jūn', 'yùn']\n",
      "肚 ['dǔ', 'dù', 'du'] ['dù', 'dǔ']\n",
      "压 ['yā', 'yà', 'ya'] ['yā', 'yà']\n",
      "寸 ['cùn', 'cun'] ['cùn']\n",
      "火 ['huǒ', 'huo'] ['huǒ', 'huō']\n",
      "灰 ['huī', 'hēi'] ['huī']\n",
      "烦 ['fán', 'fan'] ['fán']\n",
      "炎 ['yán'] ['yàn', 'tán']\n",
      "淡 ['dàn'] ['yǎn', 'yàn']\n",
      "点 ['diǎn', 'dian'] ['diǎn']\n",
      "里 ['lǐ', 'li'] ['lǐ']\n",
      "量 ['liàng', 'liáng', 'liang'] ['liàng', 'liáng']\n",
      "黑 ['hēi'] ['hēi', 'hè']\n",
      "冒 ['mào'] ['mòu', 'mò']\n",
      "同 ['tóng', 'tòng', 'tong'] ['tóng', 'tòng']\n",
      "尚 ['shàng', 'shang'] ['shàng', 'cháng']\n",
      "字 ['zì', 'zi'] ['zì']\n",
      "守 ['shǒu'] ['shǒu', 'shòu']\n",
      "梦 ['mèng'] ['mèng', 'méng']\n",
      "呆 ['dāi'] ['dāi', 'ái']\n",
      "末 ['mò', 'mo', 'me'] ['mò']\n",
      "沫 ['mò', 'mo'] ['mò']\n",
      "味 ['wèi', 'wei'] ['wèi']\n",
      "妹 ['mèi', 'mei'] ['mèi']\n",
      "渣 ['zhā', 'zhà'] ['zhā']\n",
      "李 ['lǐ', 'li'] ['lǐ']\n",
      "杂 ['zá', 'za'] ['zá']\n",
      "若 ['ruò', 'rě'] ['ré', 'rè']\n",
      "草 ['cǎo', 'cào'] ['cǎo', 'zào']\n",
      "苦 ['kǔ'] ['kǔ', 'gǔ']\n"
     ]
    },
    {
     "ename": "KeyboardInterrupt",
     "evalue": "",
     "output_type": "error",
     "traceback": [
      "\u001b[0;31m---------------------------------------------------------------------------\u001b[0m",
      "\u001b[0;31mKeyboardInterrupt\u001b[0m                         Traceback (most recent call last)",
      "\u001b[0;32m<ipython-input-192-6b64a91778ec>\u001b[0m in \u001b[0;36m<module>\u001b[0;34m()\u001b[0m\n\u001b[1;32m     20\u001b[0m \u001b[0;34m\u001b[0m\u001b[0m\n\u001b[1;32m     21\u001b[0m     \u001b[0;32mfor\u001b[0m \u001b[0mword\u001b[0m\u001b[0;34m,\u001b[0m \u001b[0mentry\u001b[0m \u001b[0;32min\u001b[0m \u001b[0mcedict\u001b[0m\u001b[0;34m.\u001b[0m\u001b[0mentries\u001b[0m\u001b[0;34m.\u001b[0m\u001b[0mitems\u001b[0m\u001b[0;34m(\u001b[0m\u001b[0;34m)\u001b[0m\u001b[0;34m:\u001b[0m\u001b[0;34m\u001b[0m\u001b[0m\n\u001b[0;32m---> 22\u001b[0;31m         \u001b[0mentry\u001b[0m \u001b[0;34m=\u001b[0m \u001b[0msort_entry\u001b[0m\u001b[0;34m(\u001b[0m\u001b[0mentry\u001b[0m\u001b[0;34m)\u001b[0m\u001b[0;34m\u001b[0m\u001b[0m\n\u001b[0m\u001b[1;32m     23\u001b[0m         \u001b[0;32mfor\u001b[0m \u001b[0mk\u001b[0m\u001b[0;34m,\u001b[0m \u001b[0mc\u001b[0m \u001b[0;32min\u001b[0m \u001b[0menumerate\u001b[0m\u001b[0;34m(\u001b[0m\u001b[0mword\u001b[0m\u001b[0;34m)\u001b[0m\u001b[0;34m:\u001b[0m\u001b[0;34m\u001b[0m\u001b[0m\n\u001b[1;32m     24\u001b[0m             \u001b[0;32mif\u001b[0m \u001b[0mc\u001b[0m \u001b[0;34m==\u001b[0m \u001b[0mhanzi\u001b[0m\u001b[0;34m:\u001b[0m\u001b[0;34m\u001b[0m\u001b[0m\n",
      "\u001b[0;32m/data/home/eahn/personal/anki-chinese/pinyin/html.py\u001b[0m in \u001b[0;36msort_entry\u001b[0;34m(entry_dict)\u001b[0m\n\u001b[1;32m     37\u001b[0m         \u001b[0;32mreturn\u001b[0m \u001b[0mlower\u001b[0m\u001b[0;34m,\u001b[0m \u001b[0mgrammar\u001b[0m\u001b[0;34m,\u001b[0m \u001b[0msize\u001b[0m\u001b[0;34m\u001b[0m\u001b[0m\n\u001b[1;32m     38\u001b[0m \u001b[0;34m\u001b[0m\u001b[0m\n\u001b[0;32m---> 39\u001b[0;31m     \u001b[0;32mreturn\u001b[0m \u001b[0msorted\u001b[0m\u001b[0;34m(\u001b[0m\u001b[0mentry\u001b[0m\u001b[0;34m,\u001b[0m \u001b[0mkey\u001b[0m\u001b[0;34m=\u001b[0m\u001b[0mkey\u001b[0m\u001b[0;34m,\u001b[0m \u001b[0mreverse\u001b[0m\u001b[0;34m=\u001b[0m\u001b[0;32mTrue\u001b[0m\u001b[0;34m)\u001b[0m\u001b[0;34m\u001b[0m\u001b[0m\n\u001b[0m\u001b[1;32m     40\u001b[0m \u001b[0;34m\u001b[0m\u001b[0m\n\u001b[1;32m     41\u001b[0m \u001b[0;34m\u001b[0m\u001b[0m\n",
      "\u001b[0;32m/data/home/eahn/personal/anki-chinese/pinyin/html.py\u001b[0m in \u001b[0;36mkey\u001b[0;34m(pair)\u001b[0m\n\u001b[1;32m     33\u001b[0m \u001b[0;34m\u001b[0m\u001b[0m\n\u001b[1;32m     34\u001b[0m         \u001b[0mgrammar_words\u001b[0m \u001b[0;34m=\u001b[0m \u001b[0;34m'modal'\u001b[0m\u001b[0;34m,\u001b[0m \u001b[0;34m'particle'\u001b[0m\u001b[0;34m,\u001b[0m \u001b[0;34m'clause'\u001b[0m\u001b[0;34m,\u001b[0m \u001b[0;34m'marker'\u001b[0m\u001b[0;34m,\u001b[0m \u001b[0;34m'prefix for'\u001b[0m\u001b[0;34m\u001b[0m\u001b[0m\n\u001b[0;32m---> 35\u001b[0;31m         \u001b[0mgrammar\u001b[0m \u001b[0;34m=\u001b[0m \u001b[0msum\u001b[0m\u001b[0;34m(\u001b[0m\u001b[0mgrammar_word\u001b[0m \u001b[0;32min\u001b[0m \u001b[0mdefinition_text\u001b[0m \u001b[0;32mfor\u001b[0m \u001b[0mgrammar_word\u001b[0m \u001b[0;32min\u001b[0m \u001b[0mgrammar_words\u001b[0m\u001b[0;34m)\u001b[0m\u001b[0;34m\u001b[0m\u001b[0m\n\u001b[0m\u001b[1;32m     36\u001b[0m \u001b[0;34m\u001b[0m\u001b[0m\n\u001b[1;32m     37\u001b[0m         \u001b[0;32mreturn\u001b[0m \u001b[0mlower\u001b[0m\u001b[0;34m,\u001b[0m \u001b[0mgrammar\u001b[0m\u001b[0;34m,\u001b[0m \u001b[0msize\u001b[0m\u001b[0;34m\u001b[0m\u001b[0m\n",
      "\u001b[0;31mKeyboardInterrupt\u001b[0m: "
     ]
    }
   ],
   "source": [
    "k = 0\n",
    "for cid in cids:\n",
    "    note = col.getCard(cid).note()\n",
    "    hanzi = note['Hanzi']\n",
    "    my_pinyins = note['Pinyin']\n",
    "    \n",
    "    if len(hanzi) > 1:\n",
    "        continue\n",
    "        \n",
    "    success, entries = cedict.lookup(hanzi)\n",
    "    assert success, 'The Hanzi [{}] is not in CEDICT!'.format(hanzi)\n",
    "    \n",
    "    cedict_pinyins = []\n",
    "    for entry in sort_entry(entries):\n",
    "        cedict_pinyin = entry[0]\n",
    "        assert len(cedict_pinyin) == 1, 'The Hanzi [{}] has a multi-syllabic pinyin!'.format(hanzi)\n",
    "        cedict_pinyin = decode_pinyin(cedict_pinyin[0])\n",
    "        if cedict_pinyin not in cedict_pinyins:\n",
    "            cedict_pinyins.append(cedict_pinyin)\n",
    "            \n",
    "    for word, entry in cedict.entries.items():\n",
    "        entry = sort_entry(entry)\n",
    "        for k, c in enumerate(word):\n",
    "            if c == hanzi:\n",
    "                for x in entry:\n",
    "                    pinyin = decode_pinyin(x[0][k].lower())\n",
    "                    if pinyin not in cedict_pinyins:\n",
    "                        cedict_pinyins.append(pinyin)\n",
    "    \n",
    "    my_pinyins = all_rex.match(my_pinyins).groups()\n",
    "    if my_pinyins[0] == None:\n",
    "        my_pinyins = my_pinyins[1:]\n",
    "    my_pinyins = [already_rex.match(my_pinyin).group(2) for my_pinyin in my_pinyins]\n",
    "    \n",
    "    if set(cedict_pinyins) != set(my_pinyins):\n",
    "        print(hanzi, cedict_pinyins, my_pinyins)"
   ]
  },
  {
   "cell_type": "code",
   "execution_count": 188,
   "metadata": {
    "scrolled": true
   },
   "outputs": [
    {
     "data": {
      "text/plain": [
       "['meng4']"
      ]
     },
     "execution_count": 188,
     "metadata": {},
     "output_type": "execute_result"
    }
   ],
   "source": [
    "hanzi_to_pinyin = {}\n",
    "for word in "
   ]
  },
  {
   "cell_type": "code",
   "execution_count": 193,
   "metadata": {},
   "outputs": [
    {
     "data": {
      "text/plain": [
       "(True, {('jue2',): [['Pteridium aquilinum', 'bracken']]})"
      ]
     },
     "execution_count": 193,
     "metadata": {},
     "output_type": "execute_result"
    }
   ],
   "source": [
    "cedict.lookup('蕨')"
   ]
  }
 ],
 "metadata": {
  "kernelspec": {
   "display_name": "Python 3",
   "language": "python",
   "name": "python3"
  },
  "language_info": {
   "codemirror_mode": {
    "name": "ipython",
    "version": 3
   },
   "file_extension": ".py",
   "mimetype": "text/x-python",
   "name": "python",
   "nbconvert_exporter": "python",
   "pygments_lexer": "ipython3",
   "version": "3.6.3"
  }
 },
 "nbformat": 4,
 "nbformat_minor": 2
}
