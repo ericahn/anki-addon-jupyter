{
 "cells": [
  {
   "cell_type": "code",
   "execution_count": 1,
   "metadata": {
    "collapsed": true
   },
   "outputs": [],
   "source": [
    "import re\n",
    "\n",
    "from konlpy.tag import Kkma\n",
    "from konlpy.utils import pprint"
   ]
  },
  {
   "cell_type": "code",
   "execution_count": 2,
   "metadata": {
    "collapsed": true
   },
   "outputs": [],
   "source": [
    "kkma = Kkma()\n",
    "rex = re.compile('([A-Z]+)\\t(.+)')\n",
    "kkma_tags = {m.group(1): m.group(2) for m in map(rex.match, open('kkma_tags')) if m}"
   ]
  },
  {
   "cell_type": "code",
   "execution_count": 4,
   "metadata": {
    "collapsed": true
   },
   "outputs": [],
   "source": [
    "sentence = '부모님은 제가 딸이길 원해서'"
   ]
  },
  {
   "cell_type": "code",
   "execution_count": 30,
   "metadata": {},
   "outputs": [
    {
     "name": "stdout",
     "output_type": "stream",
     "text": [
      "부모님 NNG 보통명사\n",
      "은 JX 보조사\n",
      "\n",
      "제가 NNG 보통명사\n",
      "\n",
      "딸 NNG 보통명사\n",
      "이 VCP 긍정 지정사, 서술격 조사 '이다'\n",
      "기 ETN 명사형 전성 어미\n",
      "를 JKO 목적격 조사\n",
      "\n",
      "원하 VV 동사\n",
      "어서 ECD 의존적 연결 어미\n",
      "\n"
     ]
    }
   ],
   "source": [
    "for phrase in kkma.pos(sentence, flatten=False):\n",
    "    for word, pos in phrase:\n",
    "        print(word, pos, kkma_tags[pos])\n",
    "    print()"
   ]
  }
 ],
 "metadata": {
  "kernelspec": {
   "display_name": "Python 3",
   "language": "python",
   "name": "python3"
  },
  "language_info": {
   "codemirror_mode": {
    "name": "ipython",
    "version": 3
   },
   "file_extension": ".py",
   "mimetype": "text/x-python",
   "name": "python",
   "nbconvert_exporter": "python",
   "pygments_lexer": "ipython3",
   "version": "3.6.3"
  }
 },
 "nbformat": 4,
 "nbformat_minor": 2
}
