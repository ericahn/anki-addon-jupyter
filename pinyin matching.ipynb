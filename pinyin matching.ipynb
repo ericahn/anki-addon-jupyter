{
 "cells": [
  {
   "cell_type": "code",
   "execution_count": 1,
   "metadata": {},
   "outputs": [
    {
     "name": "stdout",
     "output_type": "stream",
     "text": [
      "Failed to import Anki modules\n"
     ]
    }
   ],
   "source": [
    "from sys import platform\n",
    "import os\n",
    "import re\n",
    "\n",
    "from anki import Collection\n",
    "\n",
    "import zhon.pinyin\n",
    "import zhon.hanzi\n",
    "\n",
    "from pinyin import *\n",
    "from pinyin.chinese_master import *"
   ]
  },
  {
   "cell_type": "code",
   "execution_count": 2,
   "metadata": {},
   "outputs": [
    {
     "name": "stdout",
     "output_type": "stream",
     "text": [
      "Opened\n"
     ]
    }
   ],
   "source": [
    "if platform == 'darwin':\n",
    "    anki_path = '/Users/ericahn/Library/Application Support/'\n",
    "elif platform.startswith('linux'):\n",
    "    anki_path = '/home/eahn/.local/share/'\n",
    "try:\n",
    "    closed = len(col.findCards('deck:Mandarin')) == 0\n",
    "    if not closed:\n",
    "        print('Already open!')\n",
    "    else:\n",
    "        col = Collection(os.path.join(anki_path, 'Anki2', 'Eric', 'collection.anki2'))\n",
    "        print('Reoponed')\n",
    "except:\n",
    "    col = Collection(os.path.join(anki_path, 'Anki2', 'Eric', 'collection.anki2'))\n",
    "    print('Opened')"
   ]
  },
  {
   "cell_type": "code",
   "execution_count": 3,
   "metadata": {},
   "outputs": [],
   "source": [
    "cm = ChineseMaster(col, module_path)"
   ]
  },
  {
   "cell_type": "code",
   "execution_count": 4,
   "metadata": {
    "collapsed": true
   },
   "outputs": [],
   "source": [
    "sentence = '我没有问题。'\n",
    "pinyin = 'Wǒ méiyǒu wèntí.'"
   ]
  },
  {
   "cell_type": "code",
   "execution_count": 5,
   "metadata": {},
   "outputs": [
    {
     "name": "stdout",
     "output_type": "stream",
     "text": [
      "[(True, '我', ('wo3',)), (True, '没有', ('mei2', 'you3')), (True, '问题', ('wen4', 'ti2')), (False, '。', None)]\n"
     ]
    },
    {
     "data": {
      "text/html": [
       "<ruby>我<rt>wǒ</ruby> <ruby>没有<rt>méi yǒu</ruby> <ruby>问题<rt>wèn tí</ruby>。"
      ],
      "text/plain": [
       "<IPython.core.display.HTML object>"
      ]
     },
     "metadata": {},
     "output_type": "display_data"
    },
    {
     "data": {
      "text/html": [
       "<table>\n",
       "  <tr class=\"\">\n",
       "    <td class=dict-table-word>我</td>\n",
       "    <td class=dict-table-pinyin>wǒ</td>\n",
       "    <td class=dict-table-definition>\n",
       "      <ol>\n",
       "        <li>I</li>\n",
       "        <li>me</li>\n",
       "        <li>my</li>\n",
       "      </ol></td>\n",
       "  </tr>\n",
       "  <tr class=\"dict-table-word-border\">\n",
       "    <td class=dict-table-word>没有</td>\n",
       "    <td class=dict-table-pinyin>méiyǒu</td>\n",
       "    <td class=dict-table-definition>\n",
       "      <ol>\n",
       "        <li>haven't</li>\n",
       "        <li>hasn't</li>\n",
       "        <li>doesn't exist</li>\n",
       "        <li>to not have</li>\n",
       "        <li>to not be</li>\n",
       "      </ol></td>\n",
       "  </tr>\n",
       "  <tr class=\"dict-table-word-border\">\n",
       "    <td class=dict-table-word>问题</td>\n",
       "    <td class=dict-table-pinyin>wèntí</td>\n",
       "    <td class=dict-table-definition>\n",
       "      <ol>\n",
       "        <li>question</li>\n",
       "        <li>problem</li>\n",
       "        <li>issue</li>\n",
       "        <li>topic</li>\n",
       "        <li>CL:個|个[ge4]</li>\n",
       "      </ol></td>\n",
       "  </tr>\n",
       "</table>"
      ],
      "text/plain": [
       "<IPython.core.display.HTML object>"
      ]
     },
     "metadata": {},
     "output_type": "display_data"
    },
    {
     "name": "stdout",
     "output_type": "stream",
     "text": [
      "\n",
      "[(True, '我', ('Wo3',)), (False, ' ', None), (True, '没有', ('mei2', 'you3')), (False, ' ', None), (True, '问题', ('wen4', 'ti2')), (False, '。', None)]\n"
     ]
    },
    {
     "data": {
      "text/html": [
       "<ruby>我<rt>wǒ</ruby>&nbsp;&nbsp;<ruby>没有<rt>méi yǒu</ruby>&nbsp;&nbsp;<ruby>问题<rt>wèn tí</ruby>。"
      ],
      "text/plain": [
       "<IPython.core.display.HTML object>"
      ]
     },
     "metadata": {},
     "output_type": "display_data"
    },
    {
     "data": {
      "text/html": [
       "<table>\n",
       "  <tr class=\"\">\n",
       "    <td class=dict-table-word>我</td>\n",
       "    <td class=dict-table-pinyin>wǒ</td>\n",
       "    <td class=dict-table-definition>\n",
       "      <ol>\n",
       "        <li>I</li>\n",
       "        <li>me</li>\n",
       "        <li>my</li>\n",
       "      </ol></td>\n",
       "  </tr>\n",
       "  <tr class=\"dict-table-word-border\">\n",
       "    <td class=dict-table-word>没有</td>\n",
       "    <td class=dict-table-pinyin>méiyǒu</td>\n",
       "    <td class=dict-table-definition>\n",
       "      <ol>\n",
       "        <li>haven't</li>\n",
       "        <li>hasn't</li>\n",
       "        <li>doesn't exist</li>\n",
       "        <li>to not have</li>\n",
       "        <li>to not be</li>\n",
       "      </ol></td>\n",
       "  </tr>\n",
       "  <tr class=\"dict-table-word-border\">\n",
       "    <td class=dict-table-word>问题</td>\n",
       "    <td class=dict-table-pinyin>wèntí</td>\n",
       "    <td class=dict-table-definition>\n",
       "      <ol>\n",
       "        <li>question</li>\n",
       "        <li>problem</li>\n",
       "        <li>issue</li>\n",
       "        <li>topic</li>\n",
       "        <li>CL:個|个[ge4]</li>\n",
       "      </ol></td>\n",
       "  </tr>\n",
       "</table>"
      ],
      "text/plain": [
       "<IPython.core.display.HTML object>"
      ]
     },
     "metadata": {},
     "output_type": "display_data"
    },
    {
     "name": "stdout",
     "output_type": "stream",
     "text": [
      "\n"
     ]
    }
   ],
   "source": [
    "from IPython.core.display import HTML, display\n",
    "\n",
    "for ruby_struct in [parse_sentence(cm.cedict, sentence), clean_match(match_hp(sentence, pinyin)[1])]:\n",
    "    print(ruby_struct)\n",
    "    ruby = generate_ruby(ruby_struct)\n",
    "    table = generate_definitions_table(cm.cedict, ruby_struct)\n",
    "    display(HTML(ruby))\n",
    "    display(HTML(table))\n",
    "    print()"
   ]
  },
  {
   "cell_type": "code",
   "execution_count": 8,
   "metadata": {},
   "outputs": [
    {
     "name": "stdout",
     "output_type": "stream",
     "text": [
      "[[('mei2', 'you3'), [[\"haven't\", \"hasn't\", \"doesn't exist\", 'to not have', 'to not be']]]]\n"
     ]
    }
   ],
   "source": [
    "success, entry_dict = cm.cedict.lookup('没有', ('mei2', 'you3',))\n",
    "print(entry_dict)"
   ]
  }
 ],
 "metadata": {
  "kernelspec": {
   "display_name": "Python 3",
   "language": "python",
   "name": "python3"
  },
  "language_info": {
   "codemirror_mode": {
    "name": "ipython",
    "version": 3
   },
   "file_extension": ".py",
   "mimetype": "text/x-python",
   "name": "python",
   "nbconvert_exporter": "python",
   "pygments_lexer": "ipython3",
   "version": "3.6.3"
  }
 },
 "nbformat": 4,
 "nbformat_minor": 2
}
